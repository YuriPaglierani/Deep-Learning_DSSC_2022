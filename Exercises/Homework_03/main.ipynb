{
 "cells": [
  {
   "cell_type": "code",
   "execution_count": 1,
   "metadata": {},
   "outputs": [],
   "source": [
    "import torch\n",
    "import sys\n",
    "from architectures import MLP\n",
    "from train import train_epoch, train_model, test_model, accuracy, AverageMeter\n",
    "from torchinfo import summary\n",
    "from torchviz import make_dot\n",
    "from mnist import get_data\n",
    "from torch import Tensor\n",
    "import os\n",
    "from torch.utils.data import DataLoader"
   ]
  },
  {
   "cell_type": "code",
   "execution_count": 2,
   "metadata": {},
   "outputs": [
    {
     "name": "stdout",
     "output_type": "stream",
     "text": [
      "Downloading http://yann.lecun.com/exdb/mnist/train-images-idx3-ubyte.gz\n"
     ]
    },
    {
     "name": "stderr",
     "output_type": "stream",
     "text": [
      "1.4%"
     ]
    },
    {
     "name": "stdout",
     "output_type": "stream",
     "text": [
      "Downloading http://yann.lecun.com/exdb/mnist/train-images-idx3-ubyte.gz to datasets/MNIST/raw/train-images-idx3-ubyte.gz\n"
     ]
    },
    {
     "name": "stderr",
     "output_type": "stream",
     "text": [
      "100.0%\n"
     ]
    },
    {
     "name": "stdout",
     "output_type": "stream",
     "text": [
      "Extracting datasets/MNIST/raw/train-images-idx3-ubyte.gz to datasets/MNIST/raw\n"
     ]
    },
    {
     "name": "stderr",
     "output_type": "stream",
     "text": [
      "102.8%"
     ]
    },
    {
     "name": "stdout",
     "output_type": "stream",
     "text": [
      "\n",
      "Downloading http://yann.lecun.com/exdb/mnist/train-labels-idx1-ubyte.gz\n",
      "Downloading http://yann.lecun.com/exdb/mnist/train-labels-idx1-ubyte.gz to datasets/MNIST/raw/train-labels-idx1-ubyte.gz\n",
      "Extracting datasets/MNIST/raw/train-labels-idx1-ubyte.gz to datasets/MNIST/raw\n",
      "\n",
      "Downloading http://yann.lecun.com/exdb/mnist/t10k-images-idx3-ubyte.gz\n"
     ]
    },
    {
     "name": "stderr",
     "output_type": "stream",
     "text": [
      "\n",
      "11.3%"
     ]
    },
    {
     "name": "stdout",
     "output_type": "stream",
     "text": [
      "Downloading http://yann.lecun.com/exdb/mnist/t10k-images-idx3-ubyte.gz to datasets/MNIST/raw/t10k-images-idx3-ubyte.gz\n"
     ]
    },
    {
     "name": "stderr",
     "output_type": "stream",
     "text": [
      "100.0%\n",
      "112.7%\n"
     ]
    },
    {
     "name": "stdout",
     "output_type": "stream",
     "text": [
      "Extracting datasets/MNIST/raw/t10k-images-idx3-ubyte.gz to datasets/MNIST/raw\n",
      "\n",
      "Downloading http://yann.lecun.com/exdb/mnist/t10k-labels-idx1-ubyte.gz\n",
      "Downloading http://yann.lecun.com/exdb/mnist/t10k-labels-idx1-ubyte.gz to datasets/MNIST/raw/t10k-labels-idx1-ubyte.gz\n",
      "Extracting datasets/MNIST/raw/t10k-labels-idx1-ubyte.gz to datasets/MNIST/raw\n",
      "\n",
      "60000\n"
     ]
    }
   ],
   "source": [
    "minibatch_size_train = 256\n",
    "minibatch_size_test = 512\n",
    "\n",
    "trainloader, testloader = get_data(batch_size_train=minibatch_size_test, batch_size_test=minibatch_size_test)\n",
    "print(int(len(trainloader.dataset)))"
   ]
  },
  {
   "cell_type": "code",
   "execution_count": 3,
   "metadata": {},
   "outputs": [
    {
     "name": "stdout",
     "output_type": "stream",
     "text": [
      "=================================================================\n",
      "Layer (type:depth-idx)                   Param #\n",
      "=================================================================\n",
      "MLP                                      --\n",
      "├─Sequential: 1-1                        --\n",
      "│    └─Flatten: 2-1                      --\n",
      "│    └─Linear: 2-2                       12,560\n",
      "│    └─ReLU: 2-3                         --\n",
      "│    └─BatchNorm1d: 2-4                  32\n",
      "│    └─Linear: 2-5                       544\n",
      "│    └─ReLU: 2-6                         --\n",
      "│    └─BatchNorm1d: 2-7                  64\n",
      "│    └─Linear: 2-8                       792\n",
      "│    └─ReLU: 2-9                         --\n",
      "│    └─BatchNorm1d: 2-10                 48\n",
      "│    └─Linear: 2-11                      250\n",
      "=================================================================\n",
      "Total params: 14,290\n",
      "Trainable params: 14,290\n",
      "Non-trainable params: 0\n",
      "=================================================================\n"
     ]
    }
   ],
   "source": [
    "learn_rate = 0.1\n",
    "momentum = 0.9\n",
    "num_epochs = 5\n",
    "\n",
    "device = torch.device(\"cuda\" if torch.cuda.is_available() else \"cpu\")\n",
    "\n",
    "model = MLP()\n",
    "model.to(device)\n",
    "\n",
    "print(summary(model))"
   ]
  },
  {
   "cell_type": "markdown",
   "metadata": {},
   "source": [
    "#### Homework recap - EASTER HOMEWORK (optional)\n",
    "\n",
    "1. Implement L1 norm regularization as a custom loss function\n",
    "2. Implement L1 norm regularization as a custom optimizer\n",
    "3. Implement early stopping in the $E_{\\text{opt}}$ specification\n",
    "4. Implement early stopping in one of the additional specifications as of [4](https://page.mi.fu-berlin.de/prechelt/Biblio/stop_tricks1997.pdf)\n",
    "5. Reconstruct in PyTorch the first experiment in [Learning representations by back-propagating errors](https://www.nature.com/articles/323533a0) with learning rule in eq.8 (gradient descent without momentum)\n",
    "     - Try to be as close as possible to the original protocol, except for what regards the learning rule\n",
    "     - Read the paper, if you did not do it yet (don’t worry if you don’t understand the other experiments in detail)\n",
    "     - Create the data, the model and everything is needed (do not use dataloaders if you don’t know how yet how they work)\n",
    "     - Train the model\n",
    "     - Inspect the weights you obtained and check if they provide a solution to the problem\n",
    "     - Compare the solution to the solution reported in the paper\n",
    "     - Do not get frustrated if the results are not as expected!\n"
   ]
  },
  {
   "cell_type": "markdown",
   "metadata": {},
   "source": [
    "1) L1 Norm regularization as a custom loss function"
   ]
  },
  {
   "cell_type": "code",
   "execution_count": 4,
   "metadata": {},
   "outputs": [],
   "source": [
    "# Here I defined the class for L1 regularization (so we can work with any loss function)\n",
    "'''\n",
    "Possible improvements:\n",
    "- add custom L1 coefficients for each layer\n",
    "'''\n",
    "class L1_regularization(torch.nn.Module):\n",
    "    def __init__(self, model, reg_lambda=0.1, loss_fn=None):\n",
    "        super(L1_regularization, self).__init__()\n",
    "        self.reg_lambda = reg_lambda\n",
    "        self.L1 = self._L1_norm(model)\n",
    "        self.loss_fn = loss_fn\n",
    "    \n",
    "    def forward(self, y_hat, y):\n",
    "        loss = self.loss_fn(y_hat, y) if self.loss_fn is not None else None\n",
    "        return loss + self.L1 if loss is not None else self.L1\n",
    "    \n",
    "    def _L1_norm(self, model):\n",
    "        params = list(model.parameters())\n",
    "        L1_norm = torch.norm(torch.cat([param.data.flatten() for param in params]), p=1, dim=0)\n",
    "        return self.reg_lambda*L1_norm\n",
    "    \n",
    "    def info(self):\n",
    "        print(f\"L1 regularization coefficient: {self.reg_lambda}\")\n",
    "        print(f\"Loss function associated: {self.loss_fn}\")"
   ]
  },
  {
   "cell_type": "markdown",
   "metadata": {},
   "source": [
    "2. Implement L1 norm regularization as a custom optimizer"
   ]
  },
  {
   "cell_type": "code",
   "execution_count": 5,
   "metadata": {},
   "outputs": [],
   "source": [
    "class SGD_L1(torch.optim.Optimizer):\n",
    "    '''\n",
    "    An alternative of torch.optim.SGD with momentum and L1 regularization\n",
    "    '''\n",
    "    def __init__(self, parameters, lr:float = 0.1, momentum:float = 0, l1_reg:float = 0):\n",
    "        # we skip check on the args values\n",
    "        # initialize superclass with\n",
    "            # parameters\n",
    "            # hyperparameters as dict\n",
    "        super().__init__(\n",
    "            parameters,\n",
    "            {\n",
    "                \"lr\": lr,\n",
    "                \"momentum\": momentum,\n",
    "                \"l1_reg\": l1_reg\n",
    "            }\n",
    "        )\n",
    "\n",
    "    @torch.no_grad() # -> decorator specifying that all the computations here are done without keeping the gradient\n",
    "    def step(self):\n",
    "        for pg in self.param_groups: # note: param_groups is already here bc it's defined in the father class\n",
    "            for param in pg[\"params\"]:\n",
    "                if param.grad is not None: # param update operated only on those params having gradient\n",
    "                    \n",
    "                    # now we wish to recover the momentum buffer (which in the equation of SGD with momentum is indicated with M)\n",
    "                    # each parameter within the optimizer group indexes a dictionary where the values are a group of entities\n",
    "                    # which are crucial for the optimizer to work\n",
    "                    state = self.state[param]\n",
    "                    # we use .get so it does not throw an exception in case of nonexistence of the key in the dict\n",
    "                    M = state.get(\"momentum_buffer\")\n",
    "\n",
    "                    if M is not None:\n",
    "                        # if the buffer exists -> update it\n",
    "                        # M = pg[\"momentum\"] * M + pg[\"lr\"] * param.grad\n",
    "                        # ↓ more advanced notion than ↑\n",
    "                        M.mul_(pg[\"momentum\"]).add_(param.grad * pg[\"lr\"]).add_(pg[\"lr\"] * pg[\"l1_reg\"] * torch.sign(param.data))\n",
    "                    else:\n",
    "                        # if the buffer does not exist, we must calculate the momentum and then assign it to the dict\n",
    "                        # we don't use pg[\"momentum\"] as we don't have previous values for it.\n",
    "                        M = pg[\"lr\"] * param.grad + pg[\"lr\"] * pg[\"l1_reg\"] * torch.sign(param.data)\n",
    "                        state[\"momentum_buffer\"] = M\n",
    "\n",
    "                    # now we can update the params by subtracting the buffer M\n",
    "                    param.sub_(M)"
   ]
  },
  {
   "cell_type": "code",
   "execution_count": 6,
   "metadata": {},
   "outputs": [
    {
     "name": "stdout",
     "output_type": "stream",
     "text": [
      "Epoch 1 completed. Loss - total: 24342.547091960907 - average: 0.40570911819934846; Performance: 0.8808333333333334\n",
      "Epoch 2 completed. Loss - total: 14328.876857757568 - average: 0.23881461429595946; Performance: 0.92875\n",
      "Epoch 3 completed. Loss - total: 13474.181285858154 - average: 0.22456968809763592; Performance: 0.9327333333333333\n",
      "Epoch 4 completed. Loss - total: 13022.759751796722 - average: 0.21704599586327872; Performance: 0.9354333333333333\n",
      "Epoch 5 completed. Loss - total: 12536.43040895462 - average: 0.20894050681591034; Performance: 0.9366833333333333\n"
     ]
    },
    {
     "data": {
      "text/plain": [
       "(12536.43040895462, 0.9366833333333333)"
      ]
     },
     "execution_count": 6,
     "metadata": {},
     "output_type": "execute_result"
    }
   ],
   "source": [
    "model = MLP()\n",
    "model.to(device)\n",
    "loss_fn = torch.nn.CrossEntropyLoss()\n",
    "optimizer_L1 = SGD_L1(model.parameters(), lr=learn_rate, momentum=momentum, l1_reg=0.001)\n",
    "train_model(model, trainloader, loss_fn, optimizer_L1, num_epochs, checkpoint_loc=None, checkpoint_name=\"checkpoint.pt\", performance=accuracy, device=device)"
   ]
  },
  {
   "cell_type": "markdown",
   "metadata": {},
   "source": [
    "3. Implement early stopping in the $E_{\\text{opt}}$ specification"
   ]
  },
  {
   "cell_type": "code",
   "execution_count": 7,
   "metadata": {},
   "outputs": [],
   "source": [
    "def train_model_early_stopping(model, dataloader, loss_fn, optimizer, num_epochs, checkpoint_loc=None, checkpoint_name=\"checkpoint.pt\", performance=accuracy, device=\"cuda\", history=False):\n",
    "\n",
    "    # create the folder for the checkpoints (if it's not None)\n",
    "    if checkpoint_loc is not None:\n",
    "        os.makedirs(checkpoint_loc, exist_ok=True)\n",
    "        \n",
    "    if checkpoint_name is not None:\n",
    "        train_data, validation_data = split_Dataloader(dataloader, train_percentage=0.8)\n",
    "    else:\n",
    "        train_data = dataloader\n",
    "        validation_data = None\n",
    "    \n",
    "    if history:\n",
    "        train_history = []\n",
    "        validation_history = []\n",
    "\n",
    "    model.train()\n",
    "\n",
    "    best_val_loss = float('inf')\n",
    "\n",
    "    # epoch loop\n",
    "    for epoch in range(num_epochs):\n",
    "        loss_meter = AverageMeter()\n",
    "        performance_meter = AverageMeter()\n",
    "\n",
    "        train_epoch(model, train_data, loss_fn, optimizer, loss_meter, performance_meter, performance, device)\n",
    "        if history:\n",
    "            train_history.append(performance_meter.avg)\n",
    "\n",
    "        print(f\"Epoch {epoch+1} completed. Loss - total: {round(loss_meter.sum, 0)} - average: {round(loss_meter.avg, 3)}; Performance: {round(performance_meter.avg, 3)}\")\n",
    "\n",
    "        if checkpoint_name is not None:\n",
    "            curr_total_loss = test_model(model, validation_data, performance, loss_fn, device)\n",
    "            if curr_total_loss[0] < best_val_loss:       # early stopping condition\n",
    "                checkpoint_dict = {\n",
    "                    \"parameters\": model.state_dict(),\n",
    "                    \"optimizer\": optimizer.state_dict(),\n",
    "                    \"epoch\": epoch,\n",
    "                    \"best_loss_meter_over_validation\": {'total': curr_total_loss[0], 'avg': curr_total_loss[1]},\n",
    "                    \"best_performance_meter\": {'avg': curr_total_loss[2]}\n",
    "                }\n",
    "                torch.save(checkpoint_dict, os.path.join(checkpoint_loc, checkpoint_name))  # save the checkpoint\n",
    "                best_val_loss = curr_total_loss[0]          # update the best loss\n",
    "        \n",
    "        if history:\n",
    "            validation_history.append(curr_total_loss[2])\n",
    "\n",
    "    if checkpoint_name is not None:\n",
    "        filename = os.path.join(checkpoint_loc, checkpoint_name)\n",
    "        \n",
    "        keys_metric = [\"epoch\", \"best_loss_meter_over_validation\", \"best_performance_meter\"]\n",
    "        model.load_state_dict(torch.load(filename)[\"parameters\"])       # load the best model\n",
    "        optimizer.load_state_dict(torch.load(filename)[\"optimizer\"])     # load the best optimizer\n",
    "        \n",
    "        if history:\n",
    "            return metrics(filename, keys_metric), train_history, validation_history\n",
    "        return metrics(filename, keys_metric)                           # return and print the metrics\n",
    "\n",
    "\n",
    "    else:\n",
    "        if history:\n",
    "            return loss_meter.sum, loss_meter.avg, performance_meter.avg, train_history\n",
    "        return loss_meter.sum, loss_meter.avg, performance_meter.avg\n",
    "\n",
    "def metrics(filename, keys_metric):                                     # custom function for the metrics\n",
    "    dictfilt = lambda x, y: dict([ (i,x[i]) for i in x if i in set(y) ])\n",
    "    best_epoch, best_loss_meter, best_performance_meter = dictfilt(torch.load(filename), keys_metric).values()\n",
    "    print(f\"\\nBEST METRICS OVER VALIDATION\\n\" +\n",
    "            f\"Epoch {best_epoch+1}; Loss - total: {round(best_loss_meter['total'], 0)} - average: {round(best_loss_meter['avg'], 3)}; Performance: {round(best_performance_meter['avg'], 3)}\")\n",
    "    \n",
    "    return best_epoch+1, best_loss_meter['total'], best_loss_meter['avg'], best_performance_meter['avg']\n",
    "\n",
    "def split_Dataloader(dataloader, train_percentage:float):               # custom function for splitting the dataloader in train set and validation set\n",
    "    train_size = int(len(dataloader.dataset)*train_percentage)\n",
    "    train_data, test_data = torch.utils.data.random_split(dataloader.dataset, [train_size, int(len(dataloader.dataset)-train_size)])\n",
    "    train_dataloader = DataLoader(train_data, batch_size=dataloader.batch_size, shuffle=False, num_workers=dataloader.num_workers)\n",
    "    test_dataloader = DataLoader(test_data, batch_size=dataloader.batch_size, shuffle=False, num_workers=dataloader.num_workers)\n",
    "    return train_dataloader, test_dataloader"
   ]
  },
  {
   "cell_type": "code",
   "execution_count": 8,
   "metadata": {},
   "outputs": [
    {
     "name": "stdout",
     "output_type": "stream",
     "text": [
      "Epoch 1 completed. Loss - total: 21324.0 - average: 0.444; Performance: 0.868\n",
      "TESTING - total loss: 2576.0 average loss: 0.215- performance 0.934\n",
      "\n",
      "Epoch 2 completed. Loss - total: 9155.0 - average: 0.191; Performance: 0.941\n",
      "TESTING - total loss: 2330.0 average loss: 0.194- performance 0.939\n",
      "\n",
      "Epoch 3 completed. Loss - total: 7813.0 - average: 0.163; Performance: 0.949\n",
      "TESTING - total loss: 2154.0 average loss: 0.179- performance 0.946\n",
      "\n",
      "Epoch 4 completed. Loss - total: 6882.0 - average: 0.143; Performance: 0.954\n",
      "TESTING - total loss: 2052.0 average loss: 0.171- performance 0.947\n",
      "\n",
      "Epoch 5 completed. Loss - total: 6278.0 - average: 0.131; Performance: 0.959\n",
      "TESTING - total loss: 1957.0 average loss: 0.163- performance 0.95\n",
      "\n",
      "Epoch 6 completed. Loss - total: 5856.0 - average: 0.122; Performance: 0.962\n",
      "TESTING - total loss: 1931.0 average loss: 0.161- performance 0.951\n",
      "\n",
      "Epoch 7 completed. Loss - total: 5511.0 - average: 0.115; Performance: 0.965\n",
      "TESTING - total loss: 1974.0 average loss: 0.165- performance 0.95\n",
      "\n",
      "Epoch 8 completed. Loss - total: 5179.0 - average: 0.108; Performance: 0.967\n",
      "TESTING - total loss: 1936.0 average loss: 0.161- performance 0.951\n",
      "\n",
      "Epoch 9 completed. Loss - total: 4887.0 - average: 0.102; Performance: 0.968\n",
      "TESTING - total loss: 1927.0 average loss: 0.161- performance 0.953\n",
      "\n",
      "Epoch 10 completed. Loss - total: 4690.0 - average: 0.098; Performance: 0.969\n",
      "TESTING - total loss: 1932.0 average loss: 0.161- performance 0.954\n",
      "\n",
      "Epoch 11 completed. Loss - total: 4438.0 - average: 0.092; Performance: 0.971\n",
      "TESTING - total loss: 1928.0 average loss: 0.161- performance 0.954\n",
      "\n",
      "Epoch 12 completed. Loss - total: 4220.0 - average: 0.088; Performance: 0.973\n",
      "TESTING - total loss: 1936.0 average loss: 0.161- performance 0.954\n",
      "\n",
      "Epoch 13 completed. Loss - total: 4073.0 - average: 0.085; Performance: 0.974\n",
      "TESTING - total loss: 1949.0 average loss: 0.162- performance 0.955\n",
      "\n",
      "Epoch 14 completed. Loss - total: 3944.0 - average: 0.082; Performance: 0.974\n",
      "TESTING - total loss: 2078.0 average loss: 0.173- performance 0.954\n",
      "\n",
      "Epoch 15 completed. Loss - total: 3868.0 - average: 0.081; Performance: 0.975\n",
      "TESTING - total loss: 2001.0 average loss: 0.167- performance 0.955\n",
      "\n",
      "Epoch 16 completed. Loss - total: 3843.0 - average: 0.08; Performance: 0.975\n",
      "TESTING - total loss: 2022.0 average loss: 0.168- performance 0.954\n",
      "\n",
      "Epoch 17 completed. Loss - total: 3839.0 - average: 0.08; Performance: 0.974\n",
      "TESTING - total loss: 2052.0 average loss: 0.171- performance 0.955\n",
      "\n",
      "Epoch 18 completed. Loss - total: 3692.0 - average: 0.077; Performance: 0.975\n",
      "TESTING - total loss: 2160.0 average loss: 0.18- performance 0.953\n",
      "\n",
      "Epoch 19 completed. Loss - total: 3541.0 - average: 0.074; Performance: 0.977\n",
      "TESTING - total loss: 2238.0 average loss: 0.186- performance 0.951\n",
      "\n",
      "Epoch 20 completed. Loss - total: 3534.0 - average: 0.074; Performance: 0.977\n",
      "TESTING - total loss: 2399.0 average loss: 0.2- performance 0.948\n",
      "\n",
      "\n",
      "BEST METRICS OVER VALIDATION\n",
      "Epoch 9; Loss - total: 1927.0 - average: 0.161; Performance: 0.953\n"
     ]
    }
   ],
   "source": [
    "checkpoint_loc = \"/home/yuri/Scrivania/DS_SC/2nd_SEM/Deep_Learning/Lessons - Code/models/checkpoints\"\n",
    "model = MLP()\n",
    "model.to(device)\n",
    "num_epochs = 20\n",
    "loss_fn = torch.nn.CrossEntropyLoss()\n",
    "optimizer = torch.optim.SGD(model.parameters(), lr=learn_rate, momentum=momentum)\n",
    "metrcs, train_history, validation_history = train_model_early_stopping(model, trainloader, loss_fn, \n",
    "                                                                         optimizer, num_epochs, checkpoint_loc=checkpoint_loc, \n",
    "                                                                         checkpoint_name=\"checkpoint.pt\", performance=accuracy, \n",
    "                                                                         device=device, history=True)"
   ]
  },
  {
   "cell_type": "code",
   "execution_count": 9,
   "metadata": {},
   "outputs": [
    {
     "data": {
      "image/png": "[encoded data removed]",
      "text/plain": [
       "<Figure size 432x288 with 1 Axes>"
      ]
     },
     "metadata": {
      "needs_background": "light"
     },
     "output_type": "display_data"
    }
   ],
   "source": [
    "import numpy as np\n",
    "import matplotlib.pyplot as plt\n",
    "plt.plot(range(2, len(train_history)+1), np.log10(train_history[1:]), label=\"train\")\n",
    "plt.plot(range(2, len(validation_history)+1), np.log10(validation_history[1:]), label=\"validation\")\n",
    "plt.legend()\n",
    "plt.show()"
   ]
  }
 ],
 "metadata": {
  "interpreter": {
   "hash": "4cd38a29cff24502477691f52d29271db08b26de3a0d5612e4dc14a190d76940"
  },
  "kernelspec": {
   "display_name": "Python 3.8.2 ('DL_units')",
   "language": "python",
   "name": "python3"
  },
  "language_info": {
   "codemirror_mode": {
    "name": "ipython",
    "version": 3
   },
   "file_extension": ".py",
   "mimetype": "text/x-python",
   "name": "python",
   "nbconvert_exporter": "python",
   "pygments_lexer": "ipython3",
   "version": "3.8.2"
  },
  "orig_nbformat": 4
 },
 "nbformat": 4,
 "nbformat_minor": 2
}
