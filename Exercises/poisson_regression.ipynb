{
  "cells": [
    {
      "cell_type": "code",
      "execution_count": 1,
      "metadata": {
        "id": "tNT8CjYkwZC0"
      },
      "outputs": [],
      "source": [
        "import torch\n",
        "import matplotlib.pyplot as plt\n",
        "import numpy as np\n",
        "import os\n",
        "from sklearn.model_selection import train_test_split"
      ]
    },
    {
      "cell_type": "code",
      "execution_count": 2,
      "metadata": {
        "colab": {
          "base_uri": "https://localhost:8080/",
          "height": 265
        },
        "id": "3JAk4j3rwZC2",
        "outputId": "8f9e6952-d051-486c-86a5-bcf66804aef6"
      },
      "outputs": [
        {
          "data": {
            "image/png": "[encoded data removed]",
            "text/plain": [
              "<Figure size 432x288 with 1 Axes>"
            ]
          },
          "metadata": {
            "needs_background": "light"
          },
          "output_type": "display_data"
        }
      ],
      "source": [
        "def gen_fn(x):\n",
        "    return torch.exp(x)\n",
        "\n",
        "def split_setup(X, y):\n",
        "    X_train, X_test, y_train, y_test = train_test_split(X,y, test_size=0.2, random_state=42)\n",
        "    X_train, X_val, y_train, y_val = train_test_split(X_train,y_train, test_size=0.2, random_state=42)\n",
        "    return X_train.reshape(-1,1), X_val.reshape(-1,1), X_test.reshape(-1,1), y_train.reshape(-1,1), y_val.reshape(-1,1), y_test.reshape(-1,1)\n",
        "\n",
        "X = torch.linspace(-2, 1, 2048*32)\n",
        "y = (gen_fn(X) + torch.randn(2048*32, 1).T * 0.08).squeeze(0)\n",
        "y = (y-torch.min(y))/(torch.max(y)-torch.min(y))\n",
        "\n",
        "\n",
        "X_train, X_val, X_test, y_train, y_val, y_test = split_setup(X, y) \n",
        "\n",
        "plt.scatter(X_train, y_train, label='train', color='blue', s=0.5) \n",
        "plt.scatter(X_val, y_val, label='val', color='red', s=0.5)\n",
        "plt.show()"
      ]
    },
    {
      "cell_type": "code",
      "execution_count": 25,
      "metadata": {
        "id": "mR9XivGUwZC3"
      },
      "outputs": [],
      "source": [
        "class Exp(torch.nn.Module):\n",
        "    # it needs to have at least a constructor and a forward method, just like an MLP\n",
        "    def __init__(self): \n",
        "        super().__init__()\n",
        "        # no additional stuff to do here \n",
        "    \n",
        "    def forward(self, X):\n",
        "        return torch.exp(X)\n",
        "\n",
        "class MLP(torch.nn.Module):\n",
        "    def __init__(self):\n",
        "        super().__init__()\n",
        "        self.layers = torch.nn.Sequential(\n",
        "            torch.nn.Linear(1, 10, bias=True),\n",
        "            torch.nn.ReLU(),\n",
        "            torch.nn.Linear(10, 1),\n",
        "            Exp()\n",
        "        )\n",
        "\n",
        "    def forward(self, X): \n",
        "        return self.layers(X)"
      ]
    },
    {
      "cell_type": "code",
      "execution_count": 26,
      "metadata": {
        "colab": {
          "base_uri": "https://localhost:8080/",
          "height": 981
        },
        "id": "68MlQA-dwZC4",
        "outputId": "07613036-a0b9-48ee-90fa-5a191e2648e5"
      },
      "outputs": [
        {
          "name": "stdout",
          "output_type": "stream",
          "text": [
            "Requirement already satisfied: torchinfo in /usr/local/lib/python3.7/dist-packages (1.6.5)\n",
            "Requirement already satisfied: torchviz in /usr/local/lib/python3.7/dist-packages (0.0.2)\n",
            "Requirement already satisfied: torch in /usr/local/lib/python3.7/dist-packages (from torchviz) (1.10.0+cu111)\n",
            "Requirement already satisfied: graphviz in /usr/local/lib/python3.7/dist-packages (from torchviz) (0.10.1)\n",
            "Requirement already satisfied: typing-extensions in /usr/local/lib/python3.7/dist-packages (from torch->torchviz) (3.10.0.2)\n",
            "=================================================================\n",
            "Layer (type:depth-idx)                   Param #\n",
            "=================================================================\n",
            "MLP                                      --\n",
            "├─Sequential: 1-1                        --\n",
            "│    └─Linear: 2-1                       20\n",
            "│    └─ReLU: 2-2                         --\n",
            "│    └─Linear: 2-3                       11\n",
            "│    └─Exp: 2-4                          --\n",
            "=================================================================\n",
            "Total params: 31\n",
            "Trainable params: 31\n",
            "Non-trainable params: 0\n",
            "=================================================================\n"
          ]
        },
        {
          "data": {
            "image/svg+xml": "<?xml version=\"1.0\" encoding=\"UTF-8\" standalone=\"no\"?>\n<!DOCTYPE svg PUBLIC \"-//W3C//DTD SVG 1.1//EN\"\n \"http://www.w3.org/Graphics/SVG/1.1/DTD/svg11.dtd\">\n<!-- Generated by graphviz version 2.40.1 (20161225.0304)\n -->\n<!-- Title: %3 Pages: 1 -->\n<svg width=\"340pt\" height=\"472pt\"\n viewBox=\"0.00 0.00 340.00 472.00\" xmlns=\"http://www.w3.org/2000/svg\" xmlns:xlink=\"http://www.w3.org/1999/xlink\">\n<g id=\"graph0\" class=\"graph\" transform=\"scale(1 1) rotate(0) translate(4 468)\">\n<title>%3</title>\n<polygon fill=\"#ffffff\" stroke=\"transparent\" points=\"-4,4 -4,-468 336,-468 336,4 -4,4\"/>\n<!-- 140666934909552 -->\n<g id=\"node1\" class=\"node\">\n<title>140666934909552</title>\n<polygon fill=\"#caff70\" stroke=\"#000000\" points=\"196,-31 137,-31 137,0 196,0 196,-31\"/>\n<text text-anchor=\"middle\" x=\"166.5\" y=\"-7\" font-family=\"monospace\" font-size=\"10.00\" fill=\"#000000\"> (1, 1)</text>\n</g>\n<!-- 140666935179728 -->\n<g id=\"node2\" class=\"node\">\n<title>140666935179728</title>\n<polygon fill=\"#d3d3d3\" stroke=\"#000000\" points=\"211,-86 122,-86 122,-67 211,-67 211,-86\"/>\n<text text-anchor=\"middle\" x=\"166.5\" y=\"-74\" font-family=\"monospace\" font-size=\"10.00\" fill=\"#000000\">ExpBackward0</text>\n</g>\n<!-- 140666935179728&#45;&gt;140666934909552 -->\n<g id=\"edge14\" class=\"edge\">\n<title>140666935179728&#45;&gt;140666934909552</title>\n<path fill=\"none\" stroke=\"#000000\" d=\"M166.5,-66.9688C166.5,-60.1289 166.5,-50.5621 166.5,-41.5298\"/>\n<polygon fill=\"#000000\" stroke=\"#000000\" points=\"170.0001,-41.3678 166.5,-31.3678 163.0001,-41.3678 170.0001,-41.3678\"/>\n</g>\n<!-- 140666935178000 -->\n<g id=\"node3\" class=\"node\">\n<title>140666935178000</title>\n<polygon fill=\"#d3d3d3\" stroke=\"#000000\" points=\"217,-141 116,-141 116,-122 217,-122 217,-141\"/>\n<text text-anchor=\"middle\" x=\"166.5\" y=\"-129\" font-family=\"monospace\" font-size=\"10.00\" fill=\"#000000\">AddmmBackward0</text>\n</g>\n<!-- 140666935178000&#45;&gt;140666935179728 -->\n<g id=\"edge1\" class=\"edge\">\n<title>140666935178000&#45;&gt;140666935179728</title>\n<path fill=\"none\" stroke=\"#000000\" d=\"M166.5,-121.9197C166.5,-114.9083 166.5,-105.1442 166.5,-96.4652\"/>\n<polygon fill=\"#000000\" stroke=\"#000000\" points=\"170.0001,-96.3408 166.5,-86.3408 163.0001,-96.3409 170.0001,-96.3408\"/>\n</g>\n<!-- 140666935178256 -->\n<g id=\"node4\" class=\"node\">\n<title>140666935178256</title>\n<polygon fill=\"#d3d3d3\" stroke=\"#000000\" points=\"101,-196 0,-196 0,-177 101,-177 101,-196\"/>\n<text text-anchor=\"middle\" x=\"50.5\" y=\"-184\" font-family=\"monospace\" font-size=\"10.00\" fill=\"#000000\">AccumulateGrad</text>\n</g>\n<!-- 140666935178256&#45;&gt;140666935178000 -->\n<g id=\"edge2\" class=\"edge\">\n<title>140666935178256&#45;&gt;140666935178000</title>\n<path fill=\"none\" stroke=\"#000000\" d=\"M70.7057,-176.9197C88.9737,-168.2581 116.1018,-155.3957 136.8304,-145.5675\"/>\n<polygon fill=\"#000000\" stroke=\"#000000\" points=\"138.6004,-148.6018 146.1367,-141.155 135.6014,-142.2768 138.6004,-148.6018\"/>\n</g>\n<!-- 140666934908208 -->\n<g id=\"node5\" class=\"node\">\n<title>140666934908208</title>\n<polygon fill=\"#add8e6\" stroke=\"#000000\" points=\"77.5,-263 23.5,-263 23.5,-232 77.5,-232 77.5,-263\"/>\n<text text-anchor=\"middle\" x=\"50.5\" y=\"-239\" font-family=\"monospace\" font-size=\"10.00\" fill=\"#000000\"> (1)</text>\n</g>\n<!-- 140666934908208&#45;&gt;140666935178256 -->\n<g id=\"edge3\" class=\"edge\">\n<title>140666934908208&#45;&gt;140666935178256</title>\n<path fill=\"none\" stroke=\"#000000\" d=\"M50.5,-231.791C50.5,-224.0249 50.5,-214.5706 50.5,-206.3129\"/>\n<polygon fill=\"#000000\" stroke=\"#000000\" points=\"54.0001,-206.0647 50.5,-196.0648 47.0001,-206.0648 54.0001,-206.0647\"/>\n</g>\n<!-- 140666935180368 -->\n<g id=\"node6\" class=\"node\">\n<title>140666935180368</title>\n<polygon fill=\"#d3d3d3\" stroke=\"#000000\" points=\"214,-196 119,-196 119,-177 214,-177 214,-196\"/>\n<text text-anchor=\"middle\" x=\"166.5\" y=\"-184\" font-family=\"monospace\" font-size=\"10.00\" fill=\"#000000\">ReluBackward0</text>\n</g>\n<!-- 140666935180368&#45;&gt;140666935178000 -->\n<g id=\"edge4\" class=\"edge\">\n<title>140666935180368&#45;&gt;140666935178000</title>\n<path fill=\"none\" stroke=\"#000000\" d=\"M166.5,-176.9197C166.5,-169.9083 166.5,-160.1442 166.5,-151.4652\"/>\n<polygon fill=\"#000000\" stroke=\"#000000\" points=\"170.0001,-151.3408 166.5,-141.3408 163.0001,-151.3409 170.0001,-151.3408\"/>\n</g>\n<!-- 140666934465488 -->\n<g id=\"node7\" class=\"node\">\n<title>140666934465488</title>\n<polygon fill=\"#d3d3d3\" stroke=\"#000000\" points=\"213,-257 112,-257 112,-238 213,-238 213,-257\"/>\n<text text-anchor=\"middle\" x=\"162.5\" y=\"-245\" font-family=\"monospace\" font-size=\"10.00\" fill=\"#000000\">AddmmBackward0</text>\n</g>\n<!-- 140666934465488&#45;&gt;140666935180368 -->\n<g id=\"edge5\" class=\"edge\">\n<title>140666934465488&#45;&gt;140666935180368</title>\n<path fill=\"none\" stroke=\"#000000\" d=\"M163.125,-237.9688C163.6795,-229.5131 164.5072,-216.8901 165.2042,-206.2615\"/>\n<polygon fill=\"#000000\" stroke=\"#000000\" points=\"168.7043,-206.3732 165.8662,-196.1656 161.7193,-205.9152 168.7043,-206.3732\"/>\n</g>\n<!-- 140666934465424 -->\n<g id=\"node8\" class=\"node\">\n<title>140666934465424</title>\n<polygon fill=\"#d3d3d3\" stroke=\"#000000\" points=\"121,-324 20,-324 20,-305 121,-305 121,-324\"/>\n<text text-anchor=\"middle\" x=\"70.5\" y=\"-312\" font-family=\"monospace\" font-size=\"10.00\" fill=\"#000000\">AccumulateGrad</text>\n</g>\n<!-- 140666934465424&#45;&gt;140666934465488 -->\n<g id=\"edge6\" class=\"edge\">\n<title>140666934465424&#45;&gt;140666934465488</title>\n<path fill=\"none\" stroke=\"#000000\" d=\"M83.6814,-304.9005C98.7111,-293.9549 123.4942,-275.9064 141.2593,-262.9688\"/>\n<polygon fill=\"#000000\" stroke=\"#000000\" points=\"143.32,-265.7979 149.3431,-257.0817 139.1991,-260.1394 143.32,-265.7979\"/>\n</g>\n<!-- 140666935955376 -->\n<g id=\"node9\" class=\"node\">\n<title>140666935955376</title>\n<polygon fill=\"#add8e6\" stroke=\"#000000\" points=\"97.5,-397 43.5,-397 43.5,-366 97.5,-366 97.5,-397\"/>\n<text text-anchor=\"middle\" x=\"70.5\" y=\"-373\" font-family=\"monospace\" font-size=\"10.00\" fill=\"#000000\"> (10)</text>\n</g>\n<!-- 140666935955376&#45;&gt;140666934465424 -->\n<g id=\"edge7\" class=\"edge\">\n<title>140666935955376&#45;&gt;140666934465424</title>\n<path fill=\"none\" stroke=\"#000000\" d=\"M70.5,-365.9604C70.5,-356.6356 70.5,-344.6748 70.5,-334.6317\"/>\n<polygon fill=\"#000000\" stroke=\"#000000\" points=\"74.0001,-334.35 70.5,-324.3501 67.0001,-334.3501 74.0001,-334.35\"/>\n</g>\n<!-- 140666934466448 -->\n<g id=\"node10\" class=\"node\">\n<title>140666934466448</title>\n<polygon fill=\"#d3d3d3\" stroke=\"#000000\" points=\"216,-324 139,-324 139,-305 216,-305 216,-324\"/>\n<text text-anchor=\"middle\" x=\"177.5\" y=\"-312\" font-family=\"monospace\" font-size=\"10.00\" fill=\"#000000\">TBackward0</text>\n</g>\n<!-- 140666934466448&#45;&gt;140666934465488 -->\n<g id=\"edge8\" class=\"edge\">\n<title>140666934466448&#45;&gt;140666934465488</title>\n<path fill=\"none\" stroke=\"#000000\" d=\"M175.3509,-304.9005C173.1454,-295.0495 169.6519,-279.4451 166.8637,-266.9912\"/>\n<polygon fill=\"#000000\" stroke=\"#000000\" points=\"170.2454,-266.0754 164.6451,-257.0817 163.4145,-267.6048 170.2454,-266.0754\"/>\n</g>\n<!-- 140666934468240 -->\n<g id=\"node11\" class=\"node\">\n<title>140666934468240</title>\n<polygon fill=\"#d3d3d3\" stroke=\"#000000\" points=\"228,-391 127,-391 127,-372 228,-372 228,-391\"/>\n<text text-anchor=\"middle\" x=\"177.5\" y=\"-379\" font-family=\"monospace\" font-size=\"10.00\" fill=\"#000000\">AccumulateGrad</text>\n</g>\n<!-- 140666934468240&#45;&gt;140666934466448 -->\n<g id=\"edge9\" class=\"edge\">\n<title>140666934468240&#45;&gt;140666934466448</title>\n<path fill=\"none\" stroke=\"#000000\" d=\"M177.5,-371.9005C177.5,-362.149 177.5,-346.7597 177.5,-334.3695\"/>\n<polygon fill=\"#000000\" stroke=\"#000000\" points=\"181.0001,-334.0816 177.5,-324.0817 174.0001,-334.0817 181.0001,-334.0816\"/>\n</g>\n<!-- 140666936283056 -->\n<g id=\"node12\" class=\"node\">\n<title>140666936283056</title>\n<polygon fill=\"#add8e6\" stroke=\"#000000\" points=\"210,-464 145,-464 145,-433 210,-433 210,-464\"/>\n<text text-anchor=\"middle\" x=\"177.5\" y=\"-440\" font-family=\"monospace\" font-size=\"10.00\" fill=\"#000000\"> (10, 1)</text>\n</g>\n<!-- 140666936283056&#45;&gt;140666934468240 -->\n<g id=\"edge10\" class=\"edge\">\n<title>140666936283056&#45;&gt;140666934468240</title>\n<path fill=\"none\" stroke=\"#000000\" d=\"M177.5,-432.9604C177.5,-423.6356 177.5,-411.6748 177.5,-401.6317\"/>\n<polygon fill=\"#000000\" stroke=\"#000000\" points=\"181.0001,-401.35 177.5,-391.3501 174.0001,-401.3501 181.0001,-401.35\"/>\n</g>\n<!-- 140666934466320 -->\n<g id=\"node13\" class=\"node\">\n<title>140666934466320</title>\n<polygon fill=\"#d3d3d3\" stroke=\"#000000\" points=\"316,-196 239,-196 239,-177 316,-177 316,-196\"/>\n<text text-anchor=\"middle\" x=\"277.5\" y=\"-184\" font-family=\"monospace\" font-size=\"10.00\" fill=\"#000000\">TBackward0</text>\n</g>\n<!-- 140666934466320&#45;&gt;140666935178000 -->\n<g id=\"edge11\" class=\"edge\">\n<title>140666934466320&#45;&gt;140666935178000</title>\n<path fill=\"none\" stroke=\"#000000\" d=\"M258.1653,-176.9197C240.7637,-168.2973 214.9606,-155.512 195.1604,-145.7011\"/>\n<polygon fill=\"#000000\" stroke=\"#000000\" points=\"196.4999,-142.4588 185.9856,-141.155 193.392,-148.731 196.4999,-142.4588\"/>\n</g>\n<!-- 140666934467408 -->\n<g id=\"node14\" class=\"node\">\n<title>140666934467408</title>\n<polygon fill=\"#d3d3d3\" stroke=\"#000000\" points=\"332,-257 231,-257 231,-238 332,-238 332,-257\"/>\n<text text-anchor=\"middle\" x=\"281.5\" y=\"-245\" font-family=\"monospace\" font-size=\"10.00\" fill=\"#000000\">AccumulateGrad</text>\n</g>\n<!-- 140666934467408&#45;&gt;140666934466320 -->\n<g id=\"edge12\" class=\"edge\">\n<title>140666934467408&#45;&gt;140666934466320</title>\n<path fill=\"none\" stroke=\"#000000\" d=\"M280.875,-237.9688C280.3205,-229.5131 279.4928,-216.8901 278.7958,-206.2615\"/>\n<polygon fill=\"#000000\" stroke=\"#000000\" points=\"282.2807,-205.9152 278.1338,-196.1656 275.2957,-206.3732 282.2807,-205.9152\"/>\n</g>\n<!-- 140667090325136 -->\n<g id=\"node15\" class=\"node\">\n<title>140667090325136</title>\n<polygon fill=\"#add8e6\" stroke=\"#000000\" points=\"314,-330 249,-330 249,-299 314,-299 314,-330\"/>\n<text text-anchor=\"middle\" x=\"281.5\" y=\"-306\" font-family=\"monospace\" font-size=\"10.00\" fill=\"#000000\"> (1, 10)</text>\n</g>\n<!-- 140667090325136&#45;&gt;140666934467408 -->\n<g id=\"edge13\" class=\"edge\">\n<title>140667090325136&#45;&gt;140666934467408</title>\n<path fill=\"none\" stroke=\"#000000\" d=\"M281.5,-298.9604C281.5,-289.6356 281.5,-277.6748 281.5,-267.6317\"/>\n<polygon fill=\"#000000\" stroke=\"#000000\" points=\"285.0001,-267.35 281.5,-257.3501 278.0001,-267.3501 285.0001,-267.35\"/>\n</g>\n</g>\n</svg>\n",
            "text/plain": [
              "<graphviz.dot.Digraph at 0x7fef92b3ff10>"
            ]
          },
          "execution_count": 26,
          "metadata": {},
          "output_type": "execute_result"
        }
      ],
      "source": [
        "model = MLP()\n",
        "from torchinfo import summary\n",
        "from torchviz import make_dot\n",
        "print(summary(model))\n",
        "make_dot(model(torch.zeros(1, 1)))"
      ]
    },
    {
      "cell_type": "code",
      "execution_count": 27,
      "metadata": {
        "id": "qnRd9M9UwZC5"
      },
      "outputs": [],
      "source": [
        "def train_epoch(model, dataloader, loss_fn, optimizer, loss_meter, device):\n",
        "    for X, y in dataloader:\n",
        "        ##### MOVE DATA AND LABELS TO THE DESIRED DEVICE #####\n",
        "        X = X.to(device)\n",
        "        y = y.to(device)\n",
        "        # 1. reset the gradients previously accumulated by the optimizer\n",
        "        #    this will avoid re-using gradients from previous loops\n",
        "        optimizer.zero_grad()\n",
        "        # 2. get the predictions from the current state of the model\n",
        "        #    this is the forward pass\n",
        "        y_hat = model(X)\n",
        "        # 3. calculate the loss on the current mini-batch\n",
        "        loss = loss_fn(y_hat, y)\n",
        "        # 4. execute the backward pass given the current loss\n",
        "        loss.backward()\n",
        "        # 5. update the value of the params\n",
        "        optimizer.step()\n",
        "        # 6. update the loss and accuracy AverageMeter\n",
        "        loss_meter.update(val=loss.item(), n=X.shape[0])\n",
        "\n",
        "def train_model(model, dataloader, loss_fn, optimizer, num_epochs, device):\n",
        "    model.to(device)\n",
        "    model.train()\n",
        "    for epoch in range(num_epochs):\n",
        "        loss_meter = AverageMeter()\n",
        "        train_epoch(model, dataloader, loss_fn, optimizer, loss_meter, device)\n",
        "        # now with loss meter we can print both the cumulative value and the average value\n",
        "        if (epoch%100 == 0):\n",
        "            print(f\"Epoch {epoch+1} completed. Loss - total: {loss_meter.sum} - average: {loss_meter.avg}\")\n",
        "            \n",
        "    # we also return the stats for the final epoch of training\n",
        "    return loss_meter.sum\n",
        "\n",
        "class AverageMeter(object):\n",
        "    def __init__(self):\n",
        "        self.reset()\n",
        "\n",
        "    def reset(self):\n",
        "        self.val = 0 # val holds the current stat\n",
        "        self.avg = 0 # avg holds the cumulative average\n",
        "        self.sum = 0 # sum holds the cumulatie value\n",
        "        self.count = 0 # count holds the number of instances seen\n",
        "\n",
        "    def update(self, val, n=1):\n",
        "        self.val = val\n",
        "        self.sum += val * n\n",
        "        self.count += n\n",
        "        self.avg = self.sum / self.count\n",
        "\n",
        "def test_model(model, dataloader, device, loss_fn=None, verbose=True):\n",
        "    model.to(device)\n",
        "    if loss_fn is not None:\n",
        "        loss_meter = AverageMeter()\n",
        "    model.eval() # this is the contrary of model.train() we saw before - equivalent to model.train(False)\n",
        "    with torch.no_grad():\n",
        "        for X, y in dataloader:\n",
        "            X = X.to(device)\n",
        "            y = y.to(device)\n",
        "            y_hat = model(X)\n",
        "            loss = loss_fn(y_hat, y) if loss_fn is not None else None\n",
        "            if loss_fn is not None:\n",
        "                loss_meter.update(loss.item(), X.shape[0])\n",
        "    if (verbose):\n",
        "        print(f\"TESTING - loss {loss_meter.sum if loss_fn is not None else '--'}\")\n",
        "    return loss_meter.avg if loss_fn is not None else None\n",
        "\n",
        "def checkpoint(model, folder_save):\n",
        "    os.makedirs(folder_save, exist_ok=True)\n",
        "    filename = os.path.join(folder_save, \"model.pt\")\n",
        "    torch.save(model.state_dict(), filename)\n",
        "    \n",
        "def check_train_model(model, trainloader, validation_loader, loss_fn, optimizer, num_epochs, device, verbose=True):\n",
        "    folder_save = \"models/poisson_regression\"\n",
        "    best_loss = float('inf')\n",
        "    model.to(device)\n",
        "    model.train()\n",
        "    for epoch in range(num_epochs):\n",
        "        loss_meter = AverageMeter()\n",
        "        train_epoch(model, trainloader, loss_fn, optimizer, loss_meter, device)\n",
        "        # now with loss meter we can print both the cumulative value and the average value\n",
        "        if (epoch%100 == 0):\n",
        "            curr_loss = test_model(model, validation_loader, device, loss_fn, verbose=False)\n",
        "            if curr_loss < best_loss:\n",
        "                checkpoint(model, folder_save)\n",
        "                best_loss = curr_loss\n",
        "            if (verbose):\n",
        "                print(f\"Epoch {epoch+1} completed. Loss - total: {loss_meter.sum} - average: {loss_meter.avg}\")\n",
        "            \n",
        "    # we also return the stats for the final epoch of training\n",
        "    filename = os.path.join(folder_save, \"model.pt\")\n",
        "    model.load_state_dict(torch.load(filename))\n",
        "    return loss_eval(model, trainloader, validation_loader, device, loss_fn)\n",
        "    \n",
        "\n",
        "def loss_eval(model, trainloader, testloader, device, loss_fn):\n",
        "    model.to(device)\n",
        "    model.eval()\n",
        "    with torch.no_grad():\n",
        "        train_loss = test_model(model, trainloader, device, loss_fn, verbose=False)\n",
        "        test_loss = test_model(model, testloader, device, loss_fn, verbose=False)\n",
        "    return train_loss, test_loss\n"
      ]
    },
    {
      "cell_type": "code",
      "execution_count": 36,
      "metadata": {
        "id": "-ZpbvH9LwZC6"
      },
      "outputs": [],
      "source": [
        "# learn_rate = 0.001 # for SGD\n",
        "learn_rate = 0.1 # for Adam\n",
        "num_epochs = 10000"
      ]
    },
    {
      "cell_type": "code",
      "execution_count": 42,
      "metadata": {
        "colab": {
          "base_uri": "https://localhost:8080/"
        },
        "id": "zs7HamL7wZC7",
        "outputId": "cc0ba674-4d5d-4012-e179-627b0a02f21d"
      },
      "outputs": [
        {
          "name": "stdout",
          "output_type": "stream",
          "text": [
            "We will use cuda:0\n",
            "Parameter containing:\n",
            "tensor([[ 0.5454],\n",
            "        [ 0.5876],\n",
            "        [-0.8628],\n",
            "        [-0.1158],\n",
            "        [ 0.2596],\n",
            "        [-0.6821],\n",
            "        [ 0.6332],\n",
            "        [-0.5185],\n",
            "        [-0.4392],\n",
            "        [ 0.5833]], requires_grad=True) Parameter containing:\n",
            "tensor([-0.6723,  0.3240, -0.1377,  0.3107,  0.8924,  0.8888, -0.8030,  0.6776,\n",
            "        -0.3921,  0.5918], requires_grad=True)\n"
          ]
        }
      ],
      "source": [
        "loss_fn = torch.nn.PoissonNLLLoss(log_input=False)\n",
        "model = MLP()\n",
        "# loss_fn = torch.nn.MSELoss()\n",
        "# optimizer = torch.optim.SGD(model.parameters(), lr=learn_rate)\n",
        "optimizer = torch.optim.Adam(model.parameters(), lr=0.00001)\n",
        "device = \"cuda:0\" if torch.cuda.is_available() else \"cpu\"\n",
        "\n",
        "print(f\"We will use {device}\")\n",
        "print(model.layers[0].weight, model.layers[0].bias)"
      ]
    },
    {
      "cell_type": "code",
      "execution_count": 49,
      "metadata": {
        "colab": {
          "base_uri": "https://localhost:8080/"
        },
        "id": "aTF7HPVOwZC8",
        "outputId": "6536c197-fbc8-4fc5-fe15-fb0e34addbb3"
      },
      "outputs": [
        {
          "name": "stdout",
          "output_type": "stream",
          "text": [
            "Epoch 1 completed. Loss - total: 25825.929616451263 - average: 0.6157534122467041\n",
            "Epoch 101 completed. Loss - total: 25825.73212134838 - average: 0.6157487034797668\n",
            "Epoch 201 completed. Loss - total: 25825.544625997543 - average: 0.6157442331314087\n",
            "Epoch 301 completed. Loss - total: 25825.36463046074 - average: 0.6157399415969849\n",
            "Epoch 401 completed. Loss - total: 25825.189634799957 - average: 0.6157357692718506\n",
            "Epoch 501 completed. Loss - total: 25825.02213895321 - average: 0.6157317757606506\n",
            "Epoch 601 completed. Loss - total: 25824.862142920494 - average: 0.615727961063385\n",
            "Epoch 701 completed. Loss - total: 25824.7071467638 - average: 0.6157242655754089\n",
            "Epoch 801 completed. Loss - total: 25824.559650421143 - average: 0.6157207489013672\n",
            "Epoch 901 completed. Loss - total: 25824.417153954506 - average: 0.615717351436615\n",
            "Epoch 1001 completed. Loss - total: 25824.27965736389 - average: 0.6157140731811523\n",
            "Epoch 1101 completed. Loss - total: 25824.14966058731 - average: 0.615710973739624\n",
            "Epoch 1201 completed. Loss - total: 25824.024663686752 - average: 0.6157079935073853\n",
            "Epoch 1301 completed. Loss - total: 25823.907166600227 - average: 0.6157051920890808\n",
            "Epoch 1401 completed. Loss - total: 25823.792169451714 - average: 0.6157024502754211\n",
            "Epoch 1501 completed. Loss - total: 25823.687172055244 - average: 0.6156999468803406\n",
            "Epoch 1601 completed. Loss - total: 25823.584674596786 - average: 0.6156975030899048\n",
            "Epoch 1701 completed. Loss - total: 25823.48717701435 - average: 0.6156951785087585\n",
            "Epoch 1801 completed. Loss - total: 25823.394679307938 - average: 0.6156929731369019\n",
            "Epoch 1901 completed. Loss - total: 25823.309681415558 - average: 0.6156909465789795\n",
            "Epoch 2001 completed. Loss - total: 25823.2296833992 - average: 0.6156890392303467\n",
            "Epoch 2101 completed. Loss - total: 25823.149685382843 - average: 0.6156871318817139\n",
            "Epoch 2201 completed. Loss - total: 25823.07718718052 - average: 0.6156854033470154\n",
            "Epoch 2301 completed. Loss - total: 25823.007188916206 - average: 0.6156837344169617\n",
            "Epoch 2401 completed. Loss - total: 25822.942190527916 - average: 0.6156821846961975\n",
            "Epoch 2501 completed. Loss - total: 25822.882192015648 - average: 0.6156807541847229\n",
            "Epoch 2601 completed. Loss - total: 25822.827193379402 - average: 0.6156794428825378\n",
            "Epoch 2701 completed. Loss - total: 25822.772194743156 - average: 0.6156781315803528\n",
            "Epoch 2801 completed. Loss - total: 25822.722195982933 - average: 0.6156769394874573\n",
            "Epoch 2901 completed. Loss - total: 25822.67469716072 - average: 0.6156758069992065\n",
            "Epoch 3001 completed. Loss - total: 25822.62969827652 - average: 0.6156747341156006\n",
            "Epoch 3101 completed. Loss - total: 25822.58969926834 - average: 0.6156737804412842\n",
            "Epoch 3201 completed. Loss - total: 25822.549700260162 - average: 0.6156728267669678\n",
            "Epoch 3301 completed. Loss - total: 25822.514701128006 - average: 0.6156719923019409\n",
            "Epoch 3401 completed. Loss - total: 25822.47970199585 - average: 0.6156711578369141\n",
            "Epoch 3501 completed. Loss - total: 25822.447202801704 - average: 0.615670382976532\n",
            "Epoch 3601 completed. Loss - total: 25822.41720354557 - average: 0.6156696677207947\n",
            "Epoch 3701 completed. Loss - total: 25822.389704227448 - average: 0.6156690120697021\n",
            "Epoch 3801 completed. Loss - total: 25822.362204909325 - average: 0.6156683564186096\n",
            "Epoch 3901 completed. Loss - total: 25822.3347055912 - average: 0.6156677007675171\n",
            "Epoch 4001 completed. Loss - total: 25822.3122061491 - average: 0.6156671643257141\n",
            "Epoch 4101 completed. Loss - total: 25822.292206645012 - average: 0.6156666874885559\n",
            "Epoch 4201 completed. Loss - total: 25822.26970720291 - average: 0.6156661510467529\n",
            "Epoch 4301 completed. Loss - total: 25822.249707698822 - average: 0.6156656742095947\n",
            "Epoch 4401 completed. Loss - total: 25822.229708194733 - average: 0.6156651973724365\n",
            "Epoch 4501 completed. Loss - total: 25822.209708690643 - average: 0.6156647205352783\n",
            "Epoch 4601 completed. Loss - total: 25822.192209124565 - average: 0.6156643033027649\n",
            "Epoch 4701 completed. Loss - total: 25822.174709558487 - average: 0.6156638860702515\n",
            "Epoch 4801 completed. Loss - total: 25822.15720999241 - average: 0.615663468837738\n",
            "Epoch 4901 completed. Loss - total: 25822.13971042633 - average: 0.6156630516052246\n",
            "Epoch 5001 completed. Loss - total: 25822.124710798264 - average: 0.615662693977356\n",
            "Epoch 5101 completed. Loss - total: 25822.109711170197 - average: 0.6156623363494873\n",
            "Epoch 5201 completed. Loss - total: 25822.09221160412 - average: 0.6156619191169739\n",
            "Epoch 5301 completed. Loss - total: 25822.07721197605 - average: 0.6156615614891052\n",
            "Epoch 5401 completed. Loss - total: 25822.062212347984 - average: 0.6156612038612366\n",
            "Epoch 5501 completed. Loss - total: 25822.047212719917 - average: 0.6156608462333679\n",
            "Epoch 5601 completed. Loss - total: 25822.03221309185 - average: 0.6156604886054993\n",
            "Epoch 5701 completed. Loss - total: 25822.019713401794 - average: 0.6156601905822754\n",
            "Epoch 5801 completed. Loss - total: 25822.004713773727 - average: 0.6156598329544067\n",
            "Epoch 5901 completed. Loss - total: 25821.98971414566 - average: 0.6156594753265381\n",
            "Epoch 6001 completed. Loss - total: 25821.977214455605 - average: 0.6156591773033142\n",
            "Epoch 6101 completed. Loss - total: 25821.959714889526 - average: 0.6156587600708008\n",
            "Epoch 6201 completed. Loss - total: 25821.94971513748 - average: 0.6156585216522217\n",
            "Epoch 6301 completed. Loss - total: 25821.934715509415 - average: 0.615658164024353\n",
            "Epoch 6401 completed. Loss - total: 25821.92221581936 - average: 0.6156578660011292\n",
            "Epoch 6501 completed. Loss - total: 25821.90721619129 - average: 0.6156575083732605\n",
            "Epoch 6601 completed. Loss - total: 25821.894716501236 - average: 0.6156572103500366\n",
            "Epoch 6701 completed. Loss - total: 25821.87971687317 - average: 0.615656852722168\n",
            "Epoch 6801 completed. Loss - total: 25821.867217183113 - average: 0.6156565546989441\n",
            "Epoch 6901 completed. Loss - total: 25821.854717493057 - average: 0.6156562566757202\n",
            "Epoch 7001 completed. Loss - total: 25821.842217803 - average: 0.6156559586524963\n",
            "Epoch 7101 completed. Loss - total: 25821.829718112946 - average: 0.6156556606292725\n",
            "Epoch 7201 completed. Loss - total: 25821.81721842289 - average: 0.6156553626060486\n",
            "Epoch 7301 completed. Loss - total: 25821.804718732834 - average: 0.6156550645828247\n",
            "Epoch 7401 completed. Loss - total: 25821.792219042778 - average: 0.6156547665596008\n",
            "Epoch 7501 completed. Loss - total: 25821.782219290733 - average: 0.6156545281410217\n",
            "Epoch 7601 completed. Loss - total: 25821.769719600677 - average: 0.6156542301177979\n",
            "Epoch 7701 completed. Loss - total: 25821.75721991062 - average: 0.615653932094574\n",
            "Epoch 7801 completed. Loss - total: 25821.747220158577 - average: 0.6156536936759949\n",
            "Epoch 7901 completed. Loss - total: 25821.73472046852 - average: 0.615653395652771\n",
            "Epoch 8001 completed. Loss - total: 25821.724720716476 - average: 0.6156531572341919\n",
            "Epoch 8101 completed. Loss - total: 25821.71222102642 - average: 0.615652859210968\n",
            "Epoch 8201 completed. Loss - total: 25821.702221274376 - average: 0.6156526207923889\n",
            "Epoch 8301 completed. Loss - total: 25821.69222152233 - average: 0.6156523823738098\n",
            "Epoch 8401 completed. Loss - total: 25821.679721832275 - average: 0.6156520843505859\n",
            "Epoch 8501 completed. Loss - total: 25821.672222018242 - average: 0.6156519055366516\n",
            "Epoch 8601 completed. Loss - total: 25821.659722328186 - average: 0.6156516075134277\n",
            "Epoch 8701 completed. Loss - total: 25821.652222514153 - average: 0.6156514286994934\n",
            "Epoch 8801 completed. Loss - total: 25821.639722824097 - average: 0.6156511306762695\n",
            "Epoch 8901 completed. Loss - total: 25821.632223010063 - average: 0.6156509518623352\n",
            "Epoch 9001 completed. Loss - total: 25821.62222325802 - average: 0.6156507134437561\n",
            "Epoch 9101 completed. Loss - total: 25821.612223505974 - average: 0.615650475025177\n",
            "Epoch 9201 completed. Loss - total: 25821.60472369194 - average: 0.6156502962112427\n",
            "Epoch 9301 completed. Loss - total: 25821.597223877907 - average: 0.6156501173973083\n",
            "Epoch 9401 completed. Loss - total: 25821.58472418785 - average: 0.6156498193740845\n",
            "Epoch 9501 completed. Loss - total: 25821.577224373817 - average: 0.6156496405601501\n",
            "Epoch 9601 completed. Loss - total: 25821.569724559784 - average: 0.6156494617462158\n",
            "Epoch 9701 completed. Loss - total: 25821.56222474575 - average: 0.6156492829322815\n",
            "Epoch 9801 completed. Loss - total: 25821.554724931717 - average: 0.6156491041183472\n",
            "Epoch 9901 completed. Loss - total: 25821.547225117683 - average: 0.6156489253044128\n",
            "Training completed, best metrics\n",
            "TRAIN LOSS: 0.6156489253044128\n",
            "VALIDATION LOSS: 0.6178345680236816\n"
          ]
        }
      ],
      "source": [
        "from torch.utils.data import DataLoader\n",
        "\n",
        "train_dataloader = DataLoader((X_train, y_train), batch_size=8, shuffle=False)\n",
        "test_dataloader = DataLoader((X_val, y_val), batch_size=8, shuffle=False)\n",
        "losses = check_train_model(model, train_dataloader, test_dataloader, loss_fn, optimizer, num_epochs, device, verbose=True)\n",
        "print(f\"Training completed, best metrics\\nTRAIN LOSS: {losses[0]}\\nVALIDATION LOSS: {losses[1]}\")"
      ]
    },
    {
      "cell_type": "code",
      "execution_count": 50,
      "metadata": {
        "colab": {
          "base_uri": "https://localhost:8080/",
          "height": 265
        },
        "id": "YqIdjf_8wZC9",
        "outputId": "a69d150a-bba1-4203-8653-b904833f0a4f"
      },
      "outputs": [
        {
          "data": {
            "image/png": "[encoded data removed]",
            "text/plain": [
              "<Figure size 432x288 with 1 Axes>"
            ]
          },
          "metadata": {
            "needs_background": "light"
          },
          "output_type": "display_data"
        }
      ],
      "source": [
        "y_test_model = model(X_test.to(device)).to('cpu').detach().numpy()\n",
        "plt.scatter(X_test, y_test, label='val', color='blue', s=0.1)\n",
        "plt.scatter(X_test, y_test_model, label='val', color='red', s=0.5)\n",
        "plt.show()"
      ]
    },
    {
      "cell_type": "code",
      "execution_count": null,
      "metadata": {
        "id": "B-9kBt3gwZC_"
      },
      "outputs": [],
      "source": []
    },
    {
      "cell_type": "code",
      "execution_count": null,
      "metadata": {
        "id": "lDG_GLLEgsjC"
      },
      "outputs": [],
      "source": []
    }
  ],
  "metadata": {
    "accelerator": "GPU",
    "colab": {
      "collapsed_sections": [],
      "name": "poisson_regression.ipynb",
      "provenance": []
    },
    "interpreter": {
      "hash": "4cd38a29cff24502477691f52d29271db08b26de3a0d5612e4dc14a190d76940"
    },
    "kernelspec": {
      "display_name": "Python 3.8.2 ('DL_units')",
      "language": "python",
      "name": "python3"
    },
    "language_info": {
      "codemirror_mode": {
        "name": "ipython",
        "version": 3
      },
      "file_extension": ".py",
      "mimetype": "text/x-python",
      "name": "python",
      "nbconvert_exporter": "python",
      "pygments_lexer": "ipython3",
      "version": "3.8.2"
    },
    "orig_nbformat": 4
  },
  "nbformat": 4,
  "nbformat_minor": 0
}
